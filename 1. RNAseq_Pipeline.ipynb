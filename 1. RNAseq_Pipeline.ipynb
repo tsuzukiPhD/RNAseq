{
 "cells": [
  {
   "cell_type": "code",
   "execution_count": 1,
   "metadata": {
    "ExecuteTime": {
     "end_time": "2023-05-04T19:21:33.585083Z",
     "start_time": "2023-05-04T19:21:32.022Z"
    },
    "kernel": "R 4.1.0",
    "vscode": {
     "languageId": "r"
    }
   },
   "outputs": [],
   "source": [
    "##setting work directory for R\n",
    "mydir<- getwd()\n",
    "setwd(mydir)"
   ]
  },
  {
   "cell_type": "code",
   "execution_count": null,
   "metadata": {
    "ExecuteTime": {
     "end_time": "2023-05-04T19:21:34.934167Z",
     "start_time": "2023-05-04T19:21:32.744Z"
    },
    "kernel": "Bash",
    "vscode": {
     "languageId": "shellscript"
    }
   },
   "outputs": [],
   "source": [
    "##setting work directory for bash\n",
    "%use bash\n",
    "mydir=`pwd`\n",
    "cd $mydir"
   ]
  },
  {
   "cell_type": "code",
   "execution_count": null,
   "metadata": {
    "ExecuteTime": {
     "end_time": "2023-05-04T21:18:25.878328Z",
     "start_time": "2023-05-04T21:18:14.219Z"
    },
    "kernel": "R 4.1.0",
    "scrolled": true,
    "vscode": {
     "languageId": "r"
    }
   },
   "outputs": [],
   "source": [
    "##loading R libraries\n",
    ".libPaths(c(\"/anvil/projects/x-tra220018/2022/Rlibs\", .libPaths()))\n",
    "library(BiocParallel)\n",
    "library(dplyr)\n",
    "library(EnsDb.Hsapiens.v86)\n",
    "library(GenomicAlignments)\n",
    "library(GenomicRanges) \n",
    "library(Gviz)\n",
    "library(parallel)\n",
    "library(Rsamtools)\n",
    "library(ShortRead)"
   ]
  },
  {
   "cell_type": "code",
   "execution_count": null,
   "metadata": {
    "ExecuteTime": {
     "end_time": "2023-05-04T05:42:52.662146Z",
     "start_time": "2023-05-04T05:41:18.257Z"
    },
    "kernel": "Bash",
    "vscode": {
     "languageId": "shellscript"
    }
   },
   "outputs": [],
   "source": [
    "#checking quality of single-end data\n",
    "#%use bash\n",
    "module load fastqc/0.11.9\n",
    "data_path=/home/x-tsuzuki/bigcare/myproject/raw\n",
    "fastqc -t 20 $data_path/*.fastq.gz -o ./data/fastqc/raw/\n",
    "\n",
    "module load multiqc\n",
    "data_path=/home/x-tsuzuki/bigcare/myproject/data/fastqc/raw\n",
    "multiqc $data_path -o $data_path"
   ]
  },
  {
   "cell_type": "code",
   "execution_count": null,
   "metadata": {
    "ExecuteTime": {
     "end_time": "2023-05-04T06:05:51.371622Z",
     "start_time": "2023-05-04T05:59:51.995Z"
    },
    "kernel": "Bash",
    "scrolled": true,
    "vscode": {
     "languageId": "shellscript"
    }
   },
   "outputs": [],
   "source": [
    "# trimming adapters from reads\n",
    "# PDX4_CR1_S7_R1_001\n",
    "module load trimmomatic/0.39\n",
    "data_path=/home/x-tsuzuki/bigcare/myproject/raw\n",
    "out_path=./data/trim\n",
    "trimmomatic SE -phred33 -threads 15 \\\n",
    "$data_path/PDX4_CR1_S7_R1_001.fastq.gz  \\\n",
    "$out_path/PDX4_CR1_S7_R1_001.fastq.gz \\\n",
    "ILLUMINACLIP:/home/x-tsuzuki/bigcare/ref_files/TruSeq2-SE.fa:2:30:10 \\\n",
    "LEADING:10 TRAILING:10 SLIDINGWINDOW:4:20 MINLEN:20\n",
    "\n",
    "# PDX4_CR2_S8_R1_001\n",
    "trimmomatic SE -phred33 -threads 15 \\\n",
    "$data_path/PDX4_CR2_S8_R1_001.fastq.gz  \\\n",
    "$out_path/PDX4_CR2_S8_R1_001.fastq.gz \\\n",
    "ILLUMINACLIP:/home/x-tsuzuki/bigcare/ref_files/TruSeq2-SE.fa:2:30:10 \\\n",
    "LEADING:10 TRAILING:10 SLIDINGWINDOW:4:20 MINLEN:20\n",
    "\n",
    "# PDX4_CR3_S9_R1_001\n",
    "trimmomatic SE -phred33 \\\n",
    "$data_path/PDX4_CR3_S9_R1_001.fastq.gz  \\\n",
    "$out_path/PDX4_CR3_S9_R1_001.fastq.gz \\\n",
    "ILLUMINACLIP:/home/x-tsuzuki/bigcare/ref_files/TruSeq2-SE.fa:2:30:10 \\\n",
    "LEADING:10 TRAILING:10 SLIDINGWINDOW:4:20 MINLEN:20\n",
    "\n",
    "# PDX4_SE1_S10_R1_001\n",
    "trimmomatic SE -phred33 -threads 15 \\\n",
    "$data_path/PDX4_SE1_S10_R1_001.fastq.gz \\\n",
    "$out_path/PDX4_SE1_S10_R1_001.fastq.gz \\\n",
    "ILLUMINACLIP:/home/x-tsuzuki/bigcare/ref_files/TruSeq2-SE.fa:2:30:10 \\\n",
    "LEADING:10 TRAILING:10 SLIDINGWINDOW:4:20 MINLEN:20\n",
    "\n",
    "# PDX4_SE2_S11_R1_001\n",
    "trimmomatic SE -phred33 -threads 15 \\\n",
    "$data_path/PDX4_SE2_S11_R1_001.fastq.gz \\\n",
    "$out_path/PDX4_SE2_S11_R1_001.fastq.gz \\\n",
    "ILLUMINACLIP:/home/x-tsuzuki/bigcare/ref_files/TruSeq2-SE.fa:2:30:10 \\\n",
    "LEADING:10 TRAILING:10 SLIDINGWINDOW:4:20 MINLEN:20\n",
    "\n",
    "# PDX4_SE3_S12_R1_001\n",
    "trimmomatic SE -phred33 -threads 15 \\\n",
    "$data_path/PDX4_SE3_S12_R1_001.fastq.gz \\\n",
    "$out_path/PDX4_SE3_S12_R1_001.fastq.gz \\\n",
    "ILLUMINACLIP:/home/x-tsuzuki/bigcare/ref_files/TruSeq2-SE.fa:2:30:10 \\\n",
    "LEADING:10 TRAILING:10 SLIDINGWINDOW:4:20 MINLEN:20"
   ]
  },
  {
   "cell_type": "code",
   "execution_count": null,
   "metadata": {
    "ExecuteTime": {
     "end_time": "2023-05-04T06:37:55.029020Z",
     "start_time": "2023-05-04T06:10:19.958Z"
    },
    "kernel": "Bash",
    "scrolled": true,
    "vscode": {
     "languageId": "shellscript"
    }
   },
   "outputs": [],
   "source": [
    "#quality control after trimming single-end\n",
    "module load fastqc/0.11.9\n",
    "data_path=/home/x-tsuzuki/bigcare/myproject/data\n",
    "fastqc -t 20 $data_path/trim/*.fastq.gz -o ./data/fastqc/trim/"
   ]
  },
  {
   "cell_type": "code",
   "execution_count": null,
   "metadata": {
    "ExecuteTime": {
     "end_time": "2023-05-04T07:07:40.811772Z",
     "start_time": "2023-05-04T06:47:17.586Z"
    },
    "kernel": "Bash",
    "vscode": {
     "languageId": "shellscript"
    }
   },
   "outputs": [],
   "source": [
    "#the following steps were based on GeneLab's pipeline\n",
    "#generating genome index for ensembl annotations\n",
    "#release-109\n",
    "#ensembl\n",
    "conda activate apps\n",
    "module load star/2.7.10a\n",
    "STAR --runThreadN 20 --runMode genomeGenerate \\\n",
    "--genomeDir /home/x-tsuzuki/bigcare/ref_files/genomeassembly \\\n",
    "--genomeFastaFiles /home/x-tsuzuki/Homo_sapiens.GRCh38.dna.primary_assembly.fa \\\n",
    "--sjdbGTFfile /home/x-tsuzuki/Homo_sapiens.GRCh38.109.gtf \\\n",
    "--sjdbOverhang 75"
   ]
  },
  {
   "cell_type": "code",
   "execution_count": null,
   "metadata": {
    "ExecuteTime": {
     "end_time": "2023-05-04T16:02:19.299906Z",
     "start_time": "2023-05-04T15:58:36.416Z"
    },
    "kernel": "Bash",
    "vscode": {
     "languageId": "shellscript"
    }
   },
   "outputs": [],
   "source": [
    "##aligning single-end data to genome\n",
    "# PDX4_CR1_S7_R1_001\n",
    "module load star/2.7.10a\n",
    "data_path=./data/trim\n",
    "out_path=./data/STAR/single\n",
    "STAR --twopassMode Basic \\\n",
    "--genomeDir /home/x-tsuzuki/bigcare/ref_files/genomeassembly \\\n",
    "--outSAMunmapped Within \\\n",
    "--outFilterType BySJout \\\n",
    "--outSAMattributes NH HI AS NM MD MC \\\n",
    "--outFilterMultimapNmax 20 \\\n",
    "--outFilterMismatchNmax 999 \\\n",
    "--outFilterMismatchNoverReadLmax 0.04 \\\n",
    "--alignIntronMin 20 \\\n",
    "--alignIntronMax 1000000 \\\n",
    "--alignSJoverhangMin 8 \\\n",
    "--alignSJDBoverhangMin 1 \\\n",
    "--sjdbScore 1 \\\n",
    "--readFilesCommand zcat \\\n",
    "--runThreadN 20 \\\n",
    "--outSAMtype BAM SortedByCoordinate \\\n",
    "--quantMode TranscriptomeSAM GeneCounts \\\n",
    "--outSAMheaderHD @HD VN:1.4 SO:coordinate \\\n",
    "--outFileNamePrefix $out_path/PDX4_CR1_ \\\n",
    "--readFilesIn $data_path/PDX4_CR1_S7_R1_001.fastq.gz\n",
    "\n",
    "# PDX4_CR2_S8_R1_001\n",
    "STAR --twopassMode Basic \\\n",
    "--genomeDir /home/x-tsuzuki/bigcare/ref_files/genomeassembly \\\n",
    "--outSAMunmapped Within \\\n",
    "--outFilterType BySJout \\\n",
    "--outSAMattributes NH HI AS NM MD MC \\\n",
    "--outFilterMultimapNmax 20 \\\n",
    "--outFilterMismatchNmax 999 \\\n",
    "--outFilterMismatchNoverReadLmax 0.04 \\\n",
    "--alignIntronMin 20 \\\n",
    "--alignIntronMax 1000000 \\\n",
    "--alignSJoverhangMin 8 \\\n",
    "--alignSJDBoverhangMin 1 \\\n",
    "--sjdbScore 1 \\\n",
    "--readFilesCommand zcat \\\n",
    "--runThreadN 20 \\\n",
    "--outSAMtype BAM SortedByCoordinate \\\n",
    "--quantMode TranscriptomeSAM GeneCounts \\\n",
    "--outSAMheaderHD @HD VN:1.4 SO:coordinate \\\n",
    "--outFileNamePrefix $out_path/PDX4_CR2_ \\\n",
    "--readFilesIn $data_path/PDX4_CR2_S8_R1_001.fastq.gz\n",
    "\n",
    "# PDX4_CR3_S9_R1_001\n",
    "STAR --twopassMode Basic \\\n",
    "--genomeDir /home/x-tsuzuki/bigcare/ref_files/genomeassembly \\\n",
    "--outSAMunmapped Within \\\n",
    "--outFilterType BySJout \\\n",
    "--outSAMattributes NH HI AS NM MD MC \\\n",
    "--outFilterMultimapNmax 20 \\\n",
    "--outFilterMismatchNmax 999 \\\n",
    "--outFilterMismatchNoverReadLmax 0.04 \\\n",
    "--alignIntronMin 20 \\\n",
    "--alignIntronMax 1000000 \\\n",
    "--alignSJoverhangMin 8 \\\n",
    "--alignSJDBoverhangMin 1 \\\n",
    "--sjdbScore 1 \\\n",
    "--readFilesCommand zcat \\\n",
    "--runThreadN 20 \\\n",
    "--outSAMtype BAM SortedByCoordinate \\\n",
    "--quantMode TranscriptomeSAM GeneCounts \\\n",
    "--outSAMheaderHD @HD VN:1.4 SO:coordinate \\\n",
    "--outFileNamePrefix $out_path/PDX4_CR3_ \\\n",
    "--readFilesIn $data_path/PDX4_CR3_S9_R1_001.fastq.gz\n",
    "\n",
    "# PDX4_SE1_S10_R1_001\n",
    "STAR --twopassMode Basic \\\n",
    "--genomeDir /home/x-tsuzuki/bigcare/ref_files/genomeassembly \\\n",
    "--outSAMunmapped Within \\\n",
    "--outFilterType BySJout \\\n",
    "--outSAMattributes NH HI AS NM MD MC \\\n",
    "--outFilterMultimapNmax 20 \\\n",
    "--outFilterMismatchNmax 999 \\\n",
    "--outFilterMismatchNoverReadLmax 0.04 \\\n",
    "--alignIntronMin 20 \\\n",
    "--alignIntronMax 1000000 \\\n",
    "--alignSJoverhangMin 8 \\\n",
    "--alignSJDBoverhangMin 1 \\\n",
    "--sjdbScore 1 \\\n",
    "--readFilesCommand zcat \\\n",
    "--runThreadN 20 \\\n",
    "--outSAMtype BAM SortedByCoordinate \\\n",
    "--quantMode TranscriptomeSAM GeneCounts \\\n",
    "--outSAMheaderHD @HD VN:1.4 SO:coordinate \\\n",
    "--outFileNamePrefix $out_path/PDX4_SE1_ \\\n",
    "--readFilesIn $data_path/PDX4_SE1_S10_R1_001.fastq.gz\n",
    "\n",
    "# PDX4_SE2_S11_R1_001\n",
    "STAR --twopassMode Basic \\\n",
    "--genomeDir /home/x-tsuzuki/bigcare/ref_files/genomeassembly \\\n",
    "--outSAMunmapped Within \\\n",
    "--outFilterType BySJout \\\n",
    "--outSAMattributes NH HI AS NM MD MC \\\n",
    "--outFilterMultimapNmax 20 \\\n",
    "--outFilterMismatchNmax 999 \\\n",
    "--outFilterMismatchNoverReadLmax 0.04 \\\n",
    "--alignIntronMin 20 \\\n",
    "--alignIntronMax 1000000 \\\n",
    "--alignSJoverhangMin 8 \\\n",
    "--alignSJDBoverhangMin 1 \\\n",
    "--sjdbScore 1 \\\n",
    "--readFilesCommand zcat \\\n",
    "--runThreadN 20 \\\n",
    "--outSAMtype BAM SortedByCoordinate \\\n",
    "--quantMode TranscriptomeSAM GeneCounts \\\n",
    "--outSAMheaderHD @HD VN:1.4 SO:coordinate \\\n",
    "--outFileNamePrefix $out_path/PDX4_SE2_ \\\n",
    "--readFilesIn $data_path/PDX4_SE2_S11_R1_001.fastq.gz\n",
    "\n",
    "# PDX4_SE3_S12_R1_001\n",
    "STAR --twopassMode Basic \\\n",
    "--genomeDir /home/x-tsuzuki/bigcare/ref_files/genomeassembly \\\n",
    "--outSAMunmapped Within \\\n",
    "--outFilterType BySJout \\\n",
    "--outSAMattributes NH HI AS NM MD MC \\\n",
    "--outFilterMultimapNmax 20 \\\n",
    "--outFilterMismatchNmax 999 \\\n",
    "--outFilterMismatchNoverReadLmax 0.04 \\\n",
    "--alignIntronMin 20 \\\n",
    "--alignIntronMax 1000000 \\\n",
    "--alignSJoverhangMin 8 \\\n",
    "--alignSJDBoverhangMin 1 \\\n",
    "--sjdbScore 1 \\\n",
    "--readFilesCommand zcat \\\n",
    "--runThreadN 20 \\\n",
    "--outSAMtype BAM SortedByCoordinate \\\n",
    "--quantMode TranscriptomeSAM GeneCounts \\\n",
    "--outSAMheaderHD @HD VN:1.4 SO:coordinate \\\n",
    "--outFileNamePrefix $out_path/PDX4_SE3_ \\\n",
    "--readFilesIn $data_path/PDX4_SE3_S12_R1_001.fastq.gz"
   ]
  },
  {
   "cell_type": "code",
   "execution_count": null,
   "metadata": {
    "ExecuteTime": {
     "end_time": "2023-05-04T16:24:03.994895Z",
     "start_time": "2023-05-04T16:22:40.250Z"
    },
    "kernel": "Bash",
    "vscode": {
     "languageId": "shellscript"
    }
   },
   "outputs": [],
   "source": [
    "## sort aligned reads\n",
    "conda activate apps\n",
    "data_path=/home/x-tsuzuki/bigcare/myproject/data/STAR/single\n",
    "samtools sort -m 3G --threads 20 -o $data_path/PDX4_CR1_Aligned.sortedByCoord.out.bam $data_path/PDX4_CR1_Aligned.sortedByCoord.out.bam\n",
    "samtools sort -m 3G --threads 20 -o $data_path/PDX4_CR2_Aligned.sortedByCoord.out.bam $data_path/PDX4_CR2_Aligned.sortedByCoord.out.bam\n",
    "samtools sort -m 3G --threads 20 -o $data_path/PDX4_CR3_Aligned.sortedByCoord.out.bam $data_path/PDX4_CR3_Aligned.sortedByCoord.out.bam\n",
    "samtools sort -m 3G --threads 20 -o $data_path/PDX4_SE1_Aligned.sortedByCoord.out.bam $data_path/PDX4_SE1_Aligned.sortedByCoord.out.bam\n",
    "samtools sort -m 3G --threads 20 -o $data_path/PDX4_SE2_Aligned.sortedByCoord.out.bam $data_path/PDX4_SE2_Aligned.sortedByCoord.out.bam\n",
    "samtools sort -m 3G --threads 20 -o $data_path/PDX4_SE3_Aligned.sortedByCoord.out.bam $data_path/PDX4_SE3_Aligned.sortedByCoord.out.bam"
   ]
  },
  {
   "cell_type": "code",
   "execution_count": null,
   "metadata": {
    "ExecuteTime": {
     "end_time": "2023-05-04T16:26:40.747732Z",
     "start_time": "2023-05-04T16:26:28.640Z"
    },
    "kernel": "Bash",
    "vscode": {
     "languageId": "shellscript"
    }
   },
   "outputs": [],
   "source": [
    "## indexing alignments \n",
    "module load samtools/1.12\n",
    "data_path=/home/x-tsuzuki/bigcare/myproject/data/STAR/single\n",
    "samtools index -@ 20 $data_path/PDX4_CR1_Aligned.sortedByCoord.out.bam \n",
    "samtools index -@ 20 $data_path/PDX4_CR2_Aligned.sortedByCoord.out.bam \n",
    "samtools index -@ 20 $data_path/PDX4_CR3_Aligned.sortedByCoord.out.bam\n",
    "samtools index -@ 20 $data_path/PDX4_SE1_Aligned.sortedByCoord.out.bam\n",
    "samtools index -@ 20 $data_path/PDX4_SE2_Aligned.sortedByCoord.out.bam\n",
    "samtools index -@ 20 $data_path/PDX4_SE3_Aligned.sortedByCoord.out.bam"
   ]
  },
  {
   "cell_type": "code",
   "execution_count": null,
   "metadata": {
    "ExecuteTime": {
     "end_time": "2023-05-04T16:36:43.748206Z",
     "start_time": "2023-05-04T16:30:06.685Z"
    },
    "kernel": "Bash",
    "scrolled": true,
    "vscode": {
     "languageId": "shellscript"
    }
   },
   "outputs": [],
   "source": [
    "#counting expression with htseq\n",
    "#PDX4_CR1\n",
    "module load htseq/2.0.2\n",
    "data_path=/home/x-tsuzuki/bigcare/myproject/data/STAR/single/Trimmomatic\n",
    "python -m HTSeq.scripts.count \\\n",
    "       -f bam -r pos -s yes -t exon -i gene_id --mode=union --nonunique=none -c PDX4_CR1.tsv -n 20 \\\n",
    "       $data_path/PDX4_CR1_SAligned.sortedByCoord.out.bam \\\n",
    "       /home/x-tsuzuki/bigcare/ref_files/genomeassembly/Homo_sapiens.GRCh38.105.gtf\n",
    "\n",
    "#PDX4_CR2\n",
    "module load htseq/2.0.2\n",
    "data_path=/home/x-tsuzuki/bigcare/myproject/data/STAR/single/Trimmomatic\n",
    "python -m HTSeq.scripts.count \\\n",
    "       -f bam -r pos -s yes -t exon -i gene_id --mode=union --nonunique=none -c PDX4_CR2.tsv -n 20 \\\n",
    "       $data_path/PDX4_CR2_SAligned.sortedByCoord.out.bam \\\n",
    "       /home/x-tsuzuki/bigcare/ref_files/genomeassembly/Homo_sapiens.GRCh38.105.gtf\n",
    "\n",
    "#PDX4_CR3\n",
    "module load htseq/2.0.2\n",
    "data_path=/home/x-tsuzuki/bigcare/myproject/data/STAR/single/Trimmomatic\n",
    "python -m HTSeq.scripts.count \\\n",
    "       -f bam -r pos -s yes -t exon -i gene_id --mode=union --nonunique=none -c PDX4_CR3.tsv -n 20 \\\n",
    "       $data_path/PDX4_CR3_SAligned.sortedByCoord.out.bam \\\n",
    "       /home/x-tsuzuki/bigcare/ref_files/genomeassembly/Homo_sapiens.GRCh38.105.gtf\n",
    "\n",
    "#PDX4_SE1\n",
    "module load htseq/2.0.2\n",
    "data_path=/home/x-tsuzuki/bigcare/myproject/data/STAR/single/Trimmomatic\n",
    "python -m HTSeq.scripts.count \\\n",
    "       -f bam -r pos -s yes -t exon -i gene_id --mode=union --nonunique=none -c PDX4_SE1.tsv -n 20 \\\n",
    "       $data_path/PDX4_SE1_SAligned.sortedByCoord.out.bam \\\n",
    "       /home/x-tsuzuki/bigcare/ref_files/genomeassembly/Homo_sapiens.GRCh38.105.gtf\n",
    "\n",
    "#PDX4_SE2\n",
    "module load htseq/2.0.2\n",
    "data_path=/home/x-tsuzuki/bigcare/myproject/data/STAR/single/Trimmomatic\n",
    "python -m HTSeq.scripts.count \\\n",
    "       -f bam -r pos -s yes -t exon -i gene_id --mode=union --nonunique=none -c PDX4_SE2.tsv -n 20 \\\n",
    "       $data_path/PDX4_SE2_SAligned.sortedByCoord.out.bam \\\n",
    "       /home/x-tsuzuki/bigcare/ref_files/genomeassembly/Homo_sapiens.GRCh38.105.gtf\n",
    "\n",
    "#PDX4_SE3\n",
    "module load htseq/2.0.2\n",
    "data_path=/home/x-tsuzuki/bigcare/myproject/data/STAR/single/Trimmomatic\n",
    "python -m HTSeq.scripts.count \\\n",
    "       -f bam -r pos -s yes -t exon -i gene_id --mode=union --nonunique=none -c PDX4_SE3.tsv -n 20 \\\n",
    "       $data_path/PDX4_SE3_SAligned.sortedByCoord.out.bam \\\n",
    "       /home/x-tsuzuki/bigcare/ref_files/genomeassembly/Homo_sapiens.GRCh38.105.gtf"
   ]
  }
 ],
 "metadata": {
  "anaconda-cloud": {},
  "kernelspec": {
   "display_name": "SoS",
   "language": "sos",
   "name": "sos"
  },
  "language_info": {
   "codemirror_mode": "sos",
   "file_extension": ".sos",
   "mimetype": "text/x-sos",
   "name": "sos",
   "nbconvert_exporter": "sos_notebook.converter.SoS_Exporter",
   "pygments_lexer": "sos"
  },
  "sos": {
   "kernels": [
    [
     "Bash",
     "bash",
     "Bash",
     "#E6EEFF",
     "shell"
    ],
    [
     "R 4.1.0",
     "ir-4.1.0",
     "R",
     "",
     "r"
    ]
   ],
   "panel": {
    "displayed": false,
    "height": 0
   },
   "version": "0.23.3"
  },
  "toc": {
   "base_numbering": 1,
   "nav_menu": {},
   "number_sections": true,
   "sideBar": true,
   "skip_h1_title": false,
   "title_cell": "Table of Contents",
   "title_sidebar": "Contents",
   "toc_cell": false,
   "toc_position": {
    "height": "572px",
    "left": "0px",
    "right": "1070.17px",
    "top": "107px",
    "width": "414px"
   },
   "toc_section_display": "block",
   "toc_window_display": false
  },
  "varInspector": {
   "cols": {
    "lenName": 16,
    "lenType": 16,
    "lenVar": 40
   },
   "kernels_config": {
    "python": {
     "delete_cmd_postfix": "",
     "delete_cmd_prefix": "del ",
     "library": "var_list.py",
     "varRefreshCmd": "print(var_dic_list())"
    },
    "r": {
     "delete_cmd_postfix": ") ",
     "delete_cmd_prefix": "rm(",
     "library": "var_list.r",
     "varRefreshCmd": "cat(var_dic_list()) "
    }
   },
   "types_to_exclude": [
    "module",
    "function",
    "builtin_function_or_method",
    "instance",
    "_Feature"
   ],
   "window_display": false
  }
 },
 "nbformat": 4,
 "nbformat_minor": 1
}
