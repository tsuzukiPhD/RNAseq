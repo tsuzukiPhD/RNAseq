{
 "cells": [
  {
   "cell_type": "code",
   "execution_count": 1,
   "metadata": {
    "ExecuteTime": {
     "end_time": "2023-05-04T19:21:33.585083Z",
     "start_time": "2023-05-04T19:21:32.022Z"
    },
    "kernel": "R 4.1.0",
    "vscode": {
     "languageId": "r"
    }
   },
   "outputs": [],
   "source": [
    "##setting work directory for R\n",
    "mydir<- getwd()\n",
    "setwd(mydir)"
   ]
  },
  {
   "cell_type": "code",
   "execution_count": null,
   "metadata": {
    "ExecuteTime": {
     "end_time": "2023-05-04T19:21:34.934167Z",
     "start_time": "2023-05-04T19:21:32.744Z"
    },
    "kernel": "Bash",
    "vscode": {
     "languageId": "shellscript"
    }
   },
   "outputs": [],
   "source": [
    "##setting work directory for bash\n",
    "%use bash\n",
    "mydir=`pwd`\n",
    "cd $mydir"
   ]
  },
  {
   "cell_type": "code",
   "execution_count": null,
   "metadata": {
    "ExecuteTime": {
     "end_time": "2023-05-04T21:18:25.878328Z",
     "start_time": "2023-05-04T21:18:14.219Z"
    },
    "kernel": "R 4.1.0",
    "scrolled": true,
    "vscode": {
     "languageId": "r"
    }
   },
   "outputs": [],
   "source": [
    "##loading R libraries\n",
    ".libPaths(c(\"/anvil/projects/x-tra220018/2022/Rlibs\", .libPaths()))\n",
    "library(BiocParallel)\n",
    "library(dplyr)\n",
    "library(EnsDb.Hsapiens.v86)\n",
    "library(GenomicAlignments)\n",
    "library(GenomicRanges) \n",
    "library(Gviz)\n",
    "library(parallel)\n",
    "library(Rsamtools)\n",
    "library(ShortRead)"
   ]
  },
  {
   "cell_type": "code",
   "execution_count": null,
   "metadata": {
    "ExecuteTime": {
     "end_time": "2023-05-04T05:42:52.662146Z",
     "start_time": "2023-05-04T05:41:18.257Z"
    },
    "kernel": "Bash",
    "vscode": {
     "languageId": "shellscript"
    }
   },
   "outputs": [],
   "source": [
    "#checking quality of single-end data\n",
    "#%use bash\n",
    "module load fastqc/0.11.9\n",
    "data_path=/home/x-tsuzuki/bigcare/myproject/raw\n",
    "fastqc -t 20 $data_path/*.fastq.gz -o ./data/fastqc/raw/\n",
    "\n",
    "module load multiqc\n",
    "data_path=/home/x-tsuzuki/bigcare/myproject/data/fastqc/raw\n",
    "multiqc $data_path -o $data_path"
   ]
  },
  {
   "cell_type": "code",
   "execution_count": null,
   "metadata": {
    "ExecuteTime": {
     "end_time": "2023-05-04T06:05:51.371622Z",
     "start_time": "2023-05-04T05:59:51.995Z"
    },
    "kernel": "Bash",
    "scrolled": true,
    "vscode": {
     "languageId": "shellscript"
    }
   },
   "outputs": [],
   "source": [
    "# trimming adapters from reads\n",
    "# PDX4_CR1_S7_R1_001\n",
    "module load trimmomatic/0.39\n",
    "data_path=/home/x-tsuzuki/bigcare/myproject/raw\n",
    "out_path=./data/trim\n",
    "trimmomatic SE -phred33 -threads 15 \\\n",
    "$data_path/PDX4_CR1_S7_R1_001.fastq.gz  \\\n",
    "$out_path/PDX4_CR1_S7_R1_001.fastq.gz \\\n",
    "ILLUMINACLIP:/home/x-tsuzuki/bigcare/ref_files/TruSeq2-SE.fa:2:30:10 \\\n",
    "LEADING:10 TRAILING:10 SLIDINGWINDOW:4:20 MINLEN:20\n",
    "\n",
    "# PDX4_CR2_S8_R1_001\n",
    "trimmomatic SE -phred33 -threads 15 \\\n",
    "$data_path/PDX4_CR2_S8_R1_001.fastq.gz  \\\n",
    "$out_path/PDX4_CR2_S8_R1_001.fastq.gz \\\n",
    "ILLUMINACLIP:/home/x-tsuzuki/bigcare/ref_files/TruSeq2-SE.fa:2:30:10 \\\n",
    "LEADING:10 TRAILING:10 SLIDINGWINDOW:4:20 MINLEN:20\n",
    "\n",
    "# PDX4_CR3_S9_R1_001\n",
    "trimmomatic SE -phred33 \\\n",
    "$data_path/PDX4_CR3_S9_R1_001.fastq.gz  \\\n",
    "$out_path/PDX4_CR3_S9_R1_001.fastq.gz \\\n",
    "ILLUMINACLIP:/home/x-tsuzuki/bigcare/ref_files/TruSeq2-SE.fa:2:30:10 \\\n",
    "LEADING:10 TRAILING:10 SLIDINGWINDOW:4:20 MINLEN:20\n",
    "\n",
    "# PDX4_SE1_S10_R1_001\n",
    "trimmomatic SE -phred33 -threads 15 \\\n",
    "$data_path/PDX4_SE1_S10_R1_001.fastq.gz \\\n",
    "$out_path/PDX4_SE1_S10_R1_001.fastq.gz \\\n",
    "ILLUMINACLIP:/home/x-tsuzuki/bigcare/ref_files/TruSeq2-SE.fa:2:30:10 \\\n",
    "LEADING:10 TRAILING:10 SLIDINGWINDOW:4:20 MINLEN:20\n",
    "\n",
    "# PDX4_SE2_S11_R1_001\n",
    "trimmomatic SE -phred33 -threads 15 \\\n",
    "$data_path/PDX4_SE2_S11_R1_001.fastq.gz \\\n",
    "$out_path/PDX4_SE2_S11_R1_001.fastq.gz \\\n",
    "ILLUMINACLIP:/home/x-tsuzuki/bigcare/ref_files/TruSeq2-SE.fa:2:30:10 \\\n",
    "LEADING:10 TRAILING:10 SLIDINGWINDOW:4:20 MINLEN:20\n",
    "\n",
    "# PDX4_SE3_S12_R1_001\n",
    "trimmomatic SE -phred33 -threads 15 \\\n",
    "$data_path/PDX4_SE3_S12_R1_001.fastq.gz \\\n",
    "$out_path/PDX4_SE3_S12_R1_001.fastq.gz \\\n",
    "ILLUMINACLIP:/home/x-tsuzuki/bigcare/ref_files/TruSeq2-SE.fa:2:30:10 \\\n",
    "LEADING:10 TRAILING:10 SLIDINGWINDOW:4:20 MINLEN:20"
   ]
  },
  {
   "cell_type": "code",
   "execution_count": null,
   "metadata": {
    "ExecuteTime": {
     "end_time": "2023-05-04T06:37:55.029020Z",
     "start_time": "2023-05-04T06:10:19.958Z"
    },
    "kernel": "Bash",
    "scrolled": true,
    "vscode": {
     "languageId": "shellscript"
    }
   },
   "outputs": [],
   "source": [
    "#quality control after trimming single-end\n",
    "module load fastqc/0.11.9\n",
    "data_path=/home/x-tsuzuki/bigcare/myproject/data\n",
    "fastqc -t 20 $data_path/trim/*.fastq.gz -o ./data/fastqc/trim/"
   ]
  },
  {
   "cell_type": "code",
   "execution_count": null,
   "metadata": {
    "ExecuteTime": {
     "end_time": "2023-05-04T07:07:40.811772Z",
     "start_time": "2023-05-04T06:47:17.586Z"
    },
    "kernel": "Bash",
    "vscode": {
     "languageId": "shellscript"
    }
   },
   "outputs": [],
   "source": [
    "#the following steps were based on GeneLab's pipeline\n",
    "#generating genome index for ensembl annotations\n",
    "#release-109\n",
    "#ensembl\n",
    "conda activate apps\n",
    "module load star/2.7.10a\n",
    "STAR --runThreadN 20 --runMode genomeGenerate \\\n",
    "--genomeDir /home/x-tsuzuki/bigcare/ref_files/genomeassembly \\\n",
    "--genomeFastaFiles /home/x-tsuzuki/Homo_sapiens.GRCh38.dna.primary_assembly.fa \\\n",
    "--sjdbGTFfile /home/x-tsuzuki/Homo_sapiens.GRCh38.109.gtf \\\n",
    "--sjdbOverhang 75"
   ]
  },
  {
   "cell_type": "code",
   "execution_count": null,
   "metadata": {
    "ExecuteTime": {
     "end_time": "2023-05-04T16:02:19.299906Z",
     "start_time": "2023-05-04T15:58:36.416Z"
    },
    "kernel": "Bash",
    "vscode": {
     "languageId": "shellscript"
    }
   },
   "outputs": [],
   "source": [
    "##aligning single-end data to genome\n",
    "# PDX4_CR1_S7_R1_001\n",
    "module load star/2.7.10a\n",
    "data_path=./data/trim\n",
    "out_path=./data/STAR/single\n",
    "STAR --twopassMode Basic \\\n",
    "--genomeDir /home/x-tsuzuki/bigcare/ref_files/genomeassembly \\\n",
    "--outSAMunmapped Within \\\n",
    "--outFilterType BySJout \\\n",
    "--outSAMattributes NH HI AS NM MD MC \\\n",
    "--outFilterMultimapNmax 20 \\\n",
    "--outFilterMismatchNmax 999 \\\n",
    "--outFilterMismatchNoverReadLmax 0.04 \\\n",
    "--alignIntronMin 20 \\\n",
    "--alignIntronMax 1000000 \\\n",
    "--alignSJoverhangMin 8 \\\n",
    "--alignSJDBoverhangMin 1 \\\n",
    "--sjdbScore 1 \\\n",
    "--readFilesCommand zcat \\\n",
    "--runThreadN 20 \\\n",
    "--outSAMtype BAM SortedByCoordinate \\\n",
    "--quantMode TranscriptomeSAM GeneCounts \\\n",
    "--outSAMheaderHD @HD VN:1.4 SO:coordinate \\\n",
    "--outFileNamePrefix $out_path/PDX4_CR1_ \\\n",
    "--readFilesIn $data_path/PDX4_CR1_S7_R1_001.fastq.gz\n",
    "\n",
    "# PDX4_CR2_S8_R1_001\n",
    "STAR --twopassMode Basic \\\n",
    "--genomeDir /home/x-tsuzuki/bigcare/ref_files/genomeassembly \\\n",
    "--outSAMunmapped Within \\\n",
    "--outFilterType BySJout \\\n",
    "--outSAMattributes NH HI AS NM MD MC \\\n",
    "--outFilterMultimapNmax 20 \\\n",
    "--outFilterMismatchNmax 999 \\\n",
    "--outFilterMismatchNoverReadLmax 0.04 \\\n",
    "--alignIntronMin 20 \\\n",
    "--alignIntronMax 1000000 \\\n",
    "--alignSJoverhangMin 8 \\\n",
    "--alignSJDBoverhangMin 1 \\\n",
    "--sjdbScore 1 \\\n",
    "--readFilesCommand zcat \\\n",
    "--runThreadN 20 \\\n",
    "--outSAMtype BAM SortedByCoordinate \\\n",
    "--quantMode TranscriptomeSAM GeneCounts \\\n",
    "--outSAMheaderHD @HD VN:1.4 SO:coordinate \\\n",
    "--outFileNamePrefix $out_path/PDX4_CR2_ \\\n",
    "--readFilesIn $data_path/PDX4_CR2_S8_R1_001.fastq.gz\n",
    "\n",
    "# PDX4_CR3_S9_R1_001\n",
    "STAR --twopassMode Basic \\\n",
    "--genomeDir /home/x-tsuzuki/bigcare/ref_files/genomeassembly \\\n",
    "--outSAMunmapped Within \\\n",
    "--outFilterType BySJout \\\n",
    "--outSAMattributes NH HI AS NM MD MC \\\n",
    "--outFilterMultimapNmax 20 \\\n",
    "--outFilterMismatchNmax 999 \\\n",
    "--outFilterMismatchNoverReadLmax 0.04 \\\n",
    "--alignIntronMin 20 \\\n",
    "--alignIntronMax 1000000 \\\n",
    "--alignSJoverhangMin 8 \\\n",
    "--alignSJDBoverhangMin 1 \\\n",
    "--sjdbScore 1 \\\n",
    "--readFilesCommand zcat \\\n",
    "--runThreadN 20 \\\n",
    "--outSAMtype BAM SortedByCoordinate \\\n",
    "--quantMode TranscriptomeSAM GeneCounts \\\n",
    "--outSAMheaderHD @HD VN:1.4 SO:coordinate \\\n",
    "--outFileNamePrefix $out_path/PDX4_CR3_ \\\n",
    "--readFilesIn $data_path/PDX4_CR3_S9_R1_001.fastq.gz\n",
    "\n",
    "# PDX4_SE1_S10_R1_001\n",
    "STAR --twopassMode Basic \\\n",
    "--genomeDir /home/x-tsuzuki/bigcare/ref_files/genomeassembly \\\n",
    "--outSAMunmapped Within \\\n",
    "--outFilterType BySJout \\\n",
    "--outSAMattributes NH HI AS NM MD MC \\\n",
    "--outFilterMultimapNmax 20 \\\n",
    "--outFilterMismatchNmax 999 \\\n",
    "--outFilterMismatchNoverReadLmax 0.04 \\\n",
    "--alignIntronMin 20 \\\n",
    "--alignIntronMax 1000000 \\\n",
    "--alignSJoverhangMin 8 \\\n",
    "--alignSJDBoverhangMin 1 \\\n",
    "--sjdbScore 1 \\\n",
    "--readFilesCommand zcat \\\n",
    "--runThreadN 20 \\\n",
    "--outSAMtype BAM SortedByCoordinate \\\n",
    "--quantMode TranscriptomeSAM GeneCounts \\\n",
    "--outSAMheaderHD @HD VN:1.4 SO:coordinate \\\n",
    "--outFileNamePrefix $out_path/PDX4_SE1_ \\\n",
    "--readFilesIn $data_path/PDX4_SE1_S10_R1_001.fastq.gz\n",
    "\n",
    "# PDX4_SE2_S11_R1_001\n",
    "STAR --twopassMode Basic \\\n",
    "--genomeDir /home/x-tsuzuki/bigcare/ref_files/genomeassembly \\\n",
    "--outSAMunmapped Within \\\n",
    "--outFilterType BySJout \\\n",
    "--outSAMattributes NH HI AS NM MD MC \\\n",
    "--outFilterMultimapNmax 20 \\\n",
    "--outFilterMismatchNmax 999 \\\n",
    "--outFilterMismatchNoverReadLmax 0.04 \\\n",
    "--alignIntronMin 20 \\\n",
    "--alignIntronMax 1000000 \\\n",
    "--alignSJoverhangMin 8 \\\n",
    "--alignSJDBoverhangMin 1 \\\n",
    "--sjdbScore 1 \\\n",
    "--readFilesCommand zcat \\\n",
    "--runThreadN 20 \\\n",
    "--outSAMtype BAM SortedByCoordinate \\\n",
    "--quantMode TranscriptomeSAM GeneCounts \\\n",
    "--outSAMheaderHD @HD VN:1.4 SO:coordinate \\\n",
    "--outFileNamePrefix $out_path/PDX4_SE2_ \\\n",
    "--readFilesIn $data_path/PDX4_SE2_S11_R1_001.fastq.gz\n",
    "\n",
    "# PDX4_SE3_S12_R1_001\n",
    "STAR --twopassMode Basic \\\n",
    "--genomeDir /home/x-tsuzuki/bigcare/ref_files/genomeassembly \\\n",
    "--outSAMunmapped Within \\\n",
    "--outFilterType BySJout \\\n",
    "--outSAMattributes NH HI AS NM MD MC \\\n",
    "--outFilterMultimapNmax 20 \\\n",
    "--outFilterMismatchNmax 999 \\\n",
    "--outFilterMismatchNoverReadLmax 0.04 \\\n",
    "--alignIntronMin 20 \\\n",
    "--alignIntronMax 1000000 \\\n",
    "--alignSJoverhangMin 8 \\\n",
    "--alignSJDBoverhangMin 1 \\\n",
    "--sjdbScore 1 \\\n",
    "--readFilesCommand zcat \\\n",
    "--runThreadN 20 \\\n",
    "--outSAMtype BAM SortedByCoordinate \\\n",
    "--quantMode TranscriptomeSAM GeneCounts \\\n",
    "--outSAMheaderHD @HD VN:1.4 SO:coordinate \\\n",
    "--outFileNamePrefix $out_path/PDX4_SE3_ \\\n",
    "--readFilesIn $data_path/PDX4_SE3_S12_R1_001.fastq.gz"
   ]
  },
  {
   "cell_type": "code",
   "execution_count": null,
   "metadata": {
    "ExecuteTime": {
     "end_time": "2023-05-04T16:24:03.994895Z",
     "start_time": "2023-05-04T16:22:40.250Z"
    },
    "kernel": "Bash",
    "vscode": {
     "languageId": "shellscript"
    }
   },
   "outputs": [],
   "source": [
    "## sort aligned reads\n",
    "conda activate apps\n",
    "data_path=/home/x-tsuzuki/bigcare/myproject/data/STAR/single\n",
    "samtools sort -m 3G --threads 20 -o $data_path/PDX4_CR1_Aligned.sortedByCoord.out.bam $data_path/PDX4_CR1_Aligned.sortedByCoord.out.bam\n",
    "samtools sort -m 3G --threads 20 -o $data_path/PDX4_CR2_Aligned.sortedByCoord.out.bam $data_path/PDX4_CR2_Aligned.sortedByCoord.out.bam\n",
    "samtools sort -m 3G --threads 20 -o $data_path/PDX4_CR3_Aligned.sortedByCoord.out.bam $data_path/PDX4_CR3_Aligned.sortedByCoord.out.bam\n",
    "samtools sort -m 3G --threads 20 -o $data_path/PDX4_SE1_Aligned.sortedByCoord.out.bam $data_path/PDX4_SE1_Aligned.sortedByCoord.out.bam\n",
    "samtools sort -m 3G --threads 20 -o $data_path/PDX4_SE2_Aligned.sortedByCoord.out.bam $data_path/PDX4_SE2_Aligned.sortedByCoord.out.bam\n",
    "samtools sort -m 3G --threads 20 -o $data_path/PDX4_SE3_Aligned.sortedByCoord.out.bam $data_path/PDX4_SE3_Aligned.sortedByCoord.out.bam"
   ]
  },
  {
   "cell_type": "code",
   "execution_count": null,
   "metadata": {
    "ExecuteTime": {
     "end_time": "2023-05-04T16:26:40.747732Z",
     "start_time": "2023-05-04T16:26:28.640Z"
    },
    "kernel": "Bash",
    "vscode": {
     "languageId": "shellscript"
    }
   },
   "outputs": [],
   "source": [
    "## indexing alignments \n",
    "module load samtools/1.12\n",
    "data_path=/home/x-tsuzuki/bigcare/myproject/data/STAR/single\n",
    "samtools index -@ 20 $data_path/PDX4_CR1_Aligned.sortedByCoord.out.bam \n",
    "samtools index -@ 20 $data_path/PDX4_CR2_Aligned.sortedByCoord.out.bam \n",
    "samtools index -@ 20 $data_path/PDX4_CR3_Aligned.sortedByCoord.out.bam\n",
    "samtools index -@ 20 $data_path/PDX4_SE1_Aligned.sortedByCoord.out.bam\n",
    "samtools index -@ 20 $data_path/PDX4_SE2_Aligned.sortedByCoord.out.bam\n",
    "samtools index -@ 20 $data_path/PDX4_SE3_Aligned.sortedByCoord.out.bam"
   ]
  },
  {
   "cell_type": "code",
   "execution_count": null,
   "metadata": {
    "ExecuteTime": {
     "end_time": "2023-05-04T16:28:07.936968Z",
     "start_time": "2023-05-04T16:26:41.915Z"
    },
    "kernel": "Bash",
    "vscode": {
     "languageId": "shellscript"
    }
   },
   "outputs": [],
   "source": [
    "#reference for RSEM\n",
    "rsem-prepare-reference --gtf /home/x-tsuzuki/Homo_sapiens.GRCh38.109.gtf \\\n",
    "/home/x-tsuzuki/Homo_sapiens.GRCh38.dna.primary_assembly.fa \\\n",
    "/home/x-tsuzuki/bigcare/ref_files/RSEM/RSEM_ref_prefix"
   ]
  },
  {
   "cell_type": "code",
   "execution_count": null,
   "metadata": {
    "ExecuteTime": {
     "end_time": "2023-05-04T16:36:43.748206Z",
     "start_time": "2023-05-04T16:30:06.685Z"
    },
    "kernel": "Bash",
    "scrolled": true,
    "vscode": {
     "languageId": "shellscript"
    }
   },
   "outputs": [],
   "source": [
    "#counting expression with RSEM\n",
    "#PDX4_CR1\n",
    "rsem-calculate-expression --num-threads 20 \\\n",
    "--alignments \\\n",
    "--bam \\\n",
    "--seed 12345 \\\n",
    "--seed-length 20 \\\n",
    "--estimate-rspd \\\n",
    "--no-bam-output \\\n",
    "/home/x-tsuzuki/bigcare/myproject/data/STAR/single/PDX4_CR1_Aligned.toTranscriptome.out.bam \\\n",
    "/home/x-tsuzuki/bigcare/ref_files/RSEM/RSEM_ref_prefix \\\n",
    "/home/x-tsuzuki/bigcare/myproject/data/RSEM/PDX4_CR1\n",
    "\n",
    "#PDX4_CR2\n",
    "rsem-calculate-expression --num-threads 20 \\\n",
    "--alignments \\\n",
    "--bam \\\n",
    "--seed 12345 \\\n",
    "--seed-length 20 \\\n",
    "--estimate-rspd \\\n",
    "--no-bam-output \\\n",
    "/home/x-tsuzuki/bigcare/myproject/data/STAR/single/PDX4_CR2_Aligned.toTranscriptome.out.bam \\\n",
    "/home/x-tsuzuki/bigcare/ref_files/RSEM/RSEM_ref_prefix \\\n",
    "/home/x-tsuzuki/bigcare/myproject/data/RSEM/PDX4_CR2\n",
    "\n",
    "#PDX4_CR3\n",
    "rsem-calculate-expression --num-threads 20 \\\n",
    "--alignments \\\n",
    "--bam \\\n",
    "--seed 12345 \\\n",
    "--seed-length 20 \\\n",
    "--estimate-rspd \\\n",
    "--no-bam-output \\\n",
    "/home/x-tsuzuki/bigcare/myproject/data/STAR/single/PDX4_CR3_Aligned.toTranscriptome.out.bam \\\n",
    "/home/x-tsuzuki/bigcare/ref_files/RSEM/RSEM_ref_prefix \\\n",
    "/home/x-tsuzuki/bigcare/myproject/data/RSEM/PDX4_CR3\n",
    "\n",
    "#PDX4_SE1\n",
    "rsem-calculate-expression --num-threads 20 \\\n",
    "--alignments \\\n",
    "--bam \\\n",
    "--seed 12345 \\\n",
    "--seed-length 20 \\\n",
    "--estimate-rspd \\\n",
    "--no-bam-output \\\n",
    "/home/x-tsuzuki/bigcare/myproject/data/STAR/single/PDX4_SE1_Aligned.toTranscriptome.out.bam \\\n",
    "/home/x-tsuzuki/bigcare/ref_files/RSEM/RSEM_ref_prefix \\\n",
    "/home/x-tsuzuki/bigcare/myproject/data/RSEM/PDX4_SE1\n",
    "\n",
    "#PDX4_SE2\n",
    "rsem-calculate-expression --num-threads 20 \\\n",
    "--alignments \\\n",
    "--bam \\\n",
    "--seed 12345 \\\n",
    "--seed-length 20 \\\n",
    "--estimate-rspd \\\n",
    "--no-bam-output \\\n",
    "/home/x-tsuzuki/bigcare/myproject/data/STAR/single/PDX4_SE2_Aligned.toTranscriptome.out.bam \\\n",
    "/home/x-tsuzuki/bigcare/ref_files/RSEM/RSEM_ref_prefix \\\n",
    "/home/x-tsuzuki/bigcare/myproject/data/RSEM/PDX4_SE2\n",
    "\n",
    "#PDX4_SE3\n",
    "rsem-calculate-expression --num-threads 20 \\\n",
    "--alignments \\\n",
    "--bam \\\n",
    "--seed 12345 \\\n",
    "--seed-length 20 \\\n",
    "--estimate-rspd \\\n",
    "--no-bam-output \\\n",
    "/home/x-tsuzuki/bigcare/myproject/data/STAR/single/PDX4_SE3_Aligned.toTranscriptome.out.bam \\\n",
    "/home/x-tsuzuki/bigcare/ref_files/RSEM/RSEM_ref_prefix \\\n",
    "/home/x-tsuzuki/bigcare/myproject/data/RSEM/PDX4_SE3"
   ]
  },
  {
   "cell_type": "code",
   "execution_count": null,
   "metadata": {
    "ExecuteTime": {
     "end_time": "2023-05-04T18:50:34.500098Z",
     "start_time": "2023-05-04T18:50:30.953Z"
    },
    "kernel": "R 4.1.0",
    "vscode": {
     "languageId": "r"
    }
   },
   "outputs": [],
   "source": [
    ".libPaths(c(\"/home/x-tsuzuki/bigcare/Rlibs\", .libPaths()))\n",
    "library(tximport)\n",
    "library(DESeq2)\n",
    "library(tidyverse)\n",
    "library(stringr)"
   ]
  },
  {
   "cell_type": "code",
   "execution_count": null,
   "metadata": {
    "ExecuteTime": {
     "end_time": "2023-05-04T18:50:43.125617Z",
     "start_time": "2023-05-04T18:50:41.850Z"
    },
    "kernel": "R 4.1.0",
    "vscode": {
     "languageId": "r"
    }
   },
   "outputs": [],
   "source": [
    "work_dir=\"/home/x-tsuzuki/bigcare/myproject\"\n",
    "counts_dir=\"/home/x-tsuzuki/bigcare/myproject/data/RSEM\"\n",
    "\n",
    "### Pull in sample names where the \"samples.txt\" file is a single column list of sample names ###\n",
    "samples <- read.csv(Sys.glob(file.path(work_dir,\"samples.txt\")), header = FALSE, row.names = 1, stringsAsFactors = TRUE)\n",
    "\n",
    "##### Import RSEM Gene Count Data\n",
    "files <- list.files(file.path(counts_dir),pattern = \".genes.results\", full.names = TRUE)\n",
    "\n",
    "### reorder the genes.results files to match the ordering of the samples in the metadata file\n",
    "files <- files[sapply(rownames(samples), function(x)grep(paste0(counts_dir, '/',  x,'.genes.results$'), files, value=FALSE))]\n",
    "\n",
    "names(files) <- rownames(samples)\n",
    "txi.rsem <- tximport(files, type = \"rsem\", txIn = FALSE, txOut = FALSE)\n",
    "\n",
    "##### Count the number of genes with non-zero counts for each sample \n",
    "rawCounts <- txi.rsem$counts\n",
    "NumNonZeroGenes <- (as.matrix(colSums(rawCounts > 0), row.names = 1))\n",
    "colnames(NumNonZeroGenes) <- c(\"Number of genes with non-zero counts\")\n",
    "\n",
    "##### Export the number of genes with non-zero counts for each sample\n",
    "setwd(file.path(counts_dir))\n",
    "write.csv(NumNonZeroGenes,file='NumNonZeroGenes.csv')\n",
    "\n",
    "## print session info ##\n",
    "print(\"Session Info below: \")\n",
    "print(\"\")\n",
    "sessionInfo()"
   ]
  },
  {
   "cell_type": "code",
   "execution_count": 27,
   "metadata": {
    "ExecuteTime": {
     "end_time": "2023-05-04T18:51:40.460111Z",
     "start_time": "2023-05-04T18:51:40.431Z"
    },
    "kernel": "R 4.1.0",
    "scrolled": true,
    "vscode": {
     "languageId": "r"
    }
   },
   "outputs": [],
   "source": [
    "organism <- \"Homo sapiens\"\n",
    "\n",
    "runsheet_path=\"/home/x-tsuzuki/bigcare/myproject/PDX4_bulkRNASeq_v1_runsheet.csv\"\n",
    "work_dir=\"/home/x-tsuzuki/bigcare/myproject\"\n",
    "counts_dir=\"/home/x-tsuzuki/bigcare/myproject/data/RSEM\"\n",
    "norm_output=\"/home/x-tsuzuki/bigcare/myproject/data/RSEM/norm\"\n",
    "DGE_output=\"/home/x-tsuzuki/bigcare/myproject/data/RSEM/DGE\"\n",
    "\n",
    "### Pull in theannotation table (annotations.csv) file ###\n",
    "\n",
    "org_table_link <- \"/home/x-tsuzuki/bigcare/ref_files/hg38_index/annotations.csv\"\n",
    "\n",
    "org_table <- read.table(org_table_link, sep = \",\", header = TRUE)\n",
    "\n",
    "### Define the link to the GeneLab annotation table for the organism of interest ###\n",
    "\n",
    "annotations_link <- org_table[org_table$name == organism, \"genelab_annots_link\"]\n",
    "\n",
    "\n",
    "setwd(file.path(work_dir))"
   ]
  },
  {
   "cell_type": "code",
   "execution_count": null,
   "metadata": {
    "ExecuteTime": {
     "end_time": "2023-05-04T18:51:49.774239Z",
     "start_time": "2023-05-04T18:51:49.361Z"
    },
    "kernel": "R 4.1.0",
    "vscode": {
     "languageId": "r"
    }
   },
   "outputs": [],
   "source": [
    "### Pull all factors for each sample in the study from the runsheet created in Step 9a ###\n",
    "\n",
    "compare_csv_from_runsheet <- function(runsheet_path) {\n",
    "    df = read.csv(runsheet_path)\n",
    "    # get only Factor Value columns\n",
    "    factors = as.data.frame(df[,grep(\"Factor.Value\", colnames(df), ignore.case=TRUE)])\n",
    "    colnames(factors) = paste(\"factor\",1:dim(factors)[2], sep= \"_\")\n",
    "    result = data.frame(sample_id = df[,c(\"Sample.Name\")], factors)\t\n",
    "    return(result)\n",
    "}\n",
    "\n",
    "\n",
    "### Load metadata from runsheet csv file ###\n",
    "\n",
    "compare_csv <- compare_csv_from_runsheet(runsheet_path)\n",
    "\n",
    "\n",
    "### Create data frame containing all samples and respective factors ###\n",
    "\n",
    "study <- as.data.frame(compare_csv[,2:dim(compare_csv)[2]])\n",
    "colnames(study) <- colnames(compare_csv)[2:dim(compare_csv)[2]]\n",
    "rownames(study) <- compare_csv[,1]\n",
    "\n",
    "\n",
    "### Format groups and indicate the group that each sample belongs to ###\n",
    "\n",
    "if (dim(study) >= 2){\n",
    "\tgroup<-apply(study,1,paste,collapse = \" & \") ## concatenate multiple factors into one condition per sample\n",
    "} else{\n",
    "\tgroup<-study[,1]\n",
    "}\n",
    "group_names <- paste0(\"(\",group,\")\",sep = \"\") ## human readable group names\n",
    "group <- sub(\"^BLOCKER_\", \"\",  make.names(paste0(\"BLOCKER_\", group))) # group naming compatible with R models, this maintains the default behaviour of make.names with the exception that 'X' is never prepended to group names\n",
    "names(group) <- group_names\n",
    "rm(group_names)\n",
    "\n",
    "\n",
    "### Format contrasts table, defining pairwise comparisons for all groups ###\n",
    "\n",
    "contrast.names <- combn(levels(factor(names(group))),2) ## generate matrix of pairwise group combinations for comparison\n",
    "contrasts <- apply(contrast.names, MARGIN=2, function(col) sub(\"^BLOCKER_\", \"\",  make.names(paste0(\"BLOCKER_\", stringr::str_sub(col, 2, -2))))) # limited make.names call for each group (also removes leading parentheses)\n",
    "contrast.names <- c(paste(contrast.names[1,],contrast.names[2,],sep = \"v\"),paste(contrast.names[2,],contrast.names[1,],sep = \"v\")) ## format combinations for output table files names\n",
    "contrasts <- cbind(contrasts,contrasts[c(2,1),])\n",
    "colnames(contrasts) <- contrast.names\n",
    "rm(contrast.names)  "
   ]
  },
  {
   "cell_type": "code",
   "execution_count": null,
   "metadata": {
    "ExecuteTime": {
     "end_time": "2023-05-04T18:52:09.093124Z",
     "start_time": "2023-05-04T18:52:04.812Z"
    },
    "kernel": "R 4.1.0",
    "vscode": {
     "languageId": "r"
    }
   },
   "outputs": [],
   "source": [
    "### Import RSEM raw (gene) count data ###\n",
    "\n",
    "files <- list.files(file.path(counts_dir),pattern = \".genes.results\", full.names = TRUE)\n",
    "\n",
    "\n",
    "### Reorder the *genes.results files to match the ordering of the ISA samples ###\n",
    "\n",
    "files <- files[sapply(rownames(study), function(x)grep(paste0(counts_dir, '/', x,\".genes.results$\"), files, value=FALSE))]\n",
    "\n",
    "names(files) <- rownames(study)\n",
    "txi.rsem <- tximport(files, type = \"rsem\", txIn = FALSE, txOut = FALSE)\n",
    "\n",
    "\n",
    "### Add 1 to genes with lengths of zero - needed to make DESeqDataSet object ###\n",
    "\n",
    "txi.rsem$length[txi.rsem$length == 0] <- 1\n"
   ]
  },
  {
   "cell_type": "code",
   "execution_count": null,
   "metadata": {
    "ExecuteTime": {
     "end_time": "2023-05-04T18:52:23.182765Z",
     "start_time": "2023-05-04T18:52:10.354Z"
    },
    "kernel": "R 4.1.0",
    "vscode": {
     "languageId": "r"
    }
   },
   "outputs": [],
   "source": [
    "### Create data frame defining which group each sample belongs to ###\n",
    "\n",
    "sampleTable <- data.frame(condition=factor(group))\n",
    "rownames(sampleTable) <- colnames(txi.rsem$counts)\n",
    "\n",
    "\n",
    "### Make DESeqDataSet object ###\n",
    "\n",
    "dds <- DESeqDataSetFromTximport(txi.rsem, sampleTable, ~condition)\n",
    "summary(dds)\n",
    "\n",
    "\n",
    "### Filter out genes with counts of less than 10 in all samples ###\n",
    "\n",
    "keepGenes <- rowSums(counts(dds)) > 10\n",
    "dds_1 <- dds[keepGenes,]\n",
    "summary(dds_1)\n",
    "dim(dds_1)\n",
    "\n",
    "\n",
    "### Run DESeq analysis ###\n",
    "\n",
    "dds_1 <- DESeq(dds_1)\n",
    "\n",
    "\n",
    "### Generate F statistic p-value (similar to ANOVA p-value) using DESeq2 likelihood ratio test (LRT) design ###\n",
    "\n",
    "dds_1_lrt <- DESeq(dds_1, test = \"LRT\", reduced = ~ 1)\n",
    "res_1_lrt <- results(dds_1_lrt)"
   ]
  },
  {
   "cell_type": "code",
   "execution_count": 33,
   "metadata": {
    "ExecuteTime": {
     "end_time": "2023-05-04T18:52:29.573314Z",
     "start_time": "2023-05-04T18:52:29.519Z"
    },
    "kernel": "R 4.1.0",
    "vscode": {
     "languageId": "r"
    }
   },
   "outputs": [],
   "source": [
    "### Create a data frame containing normalized counts ###\n",
    "\n",
    "normCounts <- as.data.frame(counts(dds_1, normalized=TRUE))\n",
    "\n",
    "### Add 1 to all normalized counts to avoid issues with downstream calculations ###\n",
    "normCounts <- normCounts +1\n",
    "\n",
    "\n",
    "### Start the DGE output table with the normalized counts for all samples ###\n",
    "## reduced output table 1 will be used to generate human-readable DGE table\n",
    "\n",
    "reduced_output_table_1 <- normCounts\n",
    "\n",
    "## output tables 1 will be used to generate computer-readable DGE table, which is used to create GeneLab visualization plots\n",
    "\n",
    "output_table_1 <- normCounts"
   ]
  },
  {
   "cell_type": "code",
   "execution_count": 34,
   "metadata": {
    "ExecuteTime": {
     "end_time": "2023-05-04T18:52:32.957637Z",
     "start_time": "2023-05-04T18:52:31.027Z"
    },
    "kernel": "R 4.1.0",
    "vscode": {
     "languageId": "r"
    }
   },
   "outputs": [],
   "source": [
    "### Iterate through Wald Tests to generate pairwise comparisons of all groups ###\n",
    "\n",
    "for (i in 1:dim(contrasts)[2]){\n",
    "\tres_1 <- results(dds_1, contrast=c(\"condition\",contrasts[1,i],contrasts[2,i]))\n",
    "\tres_1 <- as.data.frame(res_1@listData)[,c(2,4,5,6)]\n",
    "\tcolnames(res_1) <- c(paste0(\"Log2fc_\", colnames(contrasts)[i]), paste0(\"Stat_\",colnames(contrasts)[i]), paste0(\"P.value_\",colnames(contrasts)[i]), paste0(\"Adj.p.value_\",colnames(contrasts)[i]))\n",
    "\toutput_table_1 <- cbind(output_table_1,res_1)\n",
    "\treduced_output_table_1 <- cbind(reduced_output_table_1,res_1)\n",
    "\trm(res_1)\n",
    "}"
   ]
  },
  {
   "cell_type": "code",
   "execution_count": 35,
   "metadata": {
    "ExecuteTime": {
     "end_time": "2023-05-04T18:52:33.967135Z",
     "start_time": "2023-05-04T18:52:33.881Z"
    },
    "kernel": "R 4.1.0",
    "vscode": {
     "languageId": "r"
    }
   },
   "outputs": [],
   "source": [
    "### Generate and add all sample mean column to the DGE table ###\n",
    "\n",
    "output_table_1$All.mean <- rowMeans(normCounts, na.rm = TRUE, dims = 1)\n",
    "reduced_output_table_1$All.mean <- rowMeans(normCounts, na.rm = TRUE, dims = 1)\n",
    "\n",
    "### Generate and add all sample stdev column to the DGE table ###\n",
    "\n",
    "output_table_1$All.stdev <- rowSds(as.matrix(normCounts), na.rm = TRUE, dims = 1)\n",
    "reduced_output_table_1$All.stdev <- rowSds(as.matrix(normCounts), na.rm = TRUE, dims = 1)"
   ]
  },
  {
   "cell_type": "code",
   "execution_count": 36,
   "metadata": {
    "ExecuteTime": {
     "end_time": "2023-05-04T18:52:36.714757Z",
     "start_time": "2023-05-04T18:52:36.698Z"
    },
    "kernel": "R 4.1.0",
    "vscode": {
     "languageId": "r"
    }
   },
   "outputs": [],
   "source": [
    "### Add F statistic p-value (similar to ANOVA p-value) column to the DGE table ###\n",
    "\n",
    "output_table_1$LRT.p.value <- res_1_lrt@listData$padj\n",
    "reduced_output_table_1$LRT.p.value <- res_1_lrt@listData$padj"
   ]
  },
  {
   "cell_type": "code",
   "execution_count": 37,
   "metadata": {
    "ExecuteTime": {
     "end_time": "2023-05-04T18:52:38.486083Z",
     "start_time": "2023-05-04T18:52:38.428Z"
    },
    "kernel": "R 4.1.0",
    "vscode": {
     "languageId": "r"
    }
   },
   "outputs": [],
   "source": [
    "### Generate and add group mean and stdev columns to the DGE table ###\n",
    "\n",
    "tcounts <- as.data.frame(t(normCounts))\n",
    "tcounts$group <- names(group) # Used final table group name formatting (e.g. '( Space Flight & Blue Light )' )"
   ]
  },
  {
   "cell_type": "code",
   "execution_count": null,
   "metadata": {
    "ExecuteTime": {
     "end_time": "2023-05-04T18:53:20.659325Z",
     "start_time": "2023-05-04T18:52:48.892Z"
    },
    "kernel": "R 4.1.0",
    "vscode": {
     "languageId": "r"
    }
   },
   "outputs": [],
   "source": [
    "library(BiocParallel)\n",
    "library(parallel)\n",
    "bpparam <- MulticoreParam(workers=20, tasks=0)\n",
    "register(bpparam)\n",
    "\n",
    "registered()$MulticoreParam\n",
    "\n",
    "group_means <- as.data.frame(t(aggregate(. ~ group,data = tcounts,mean))) # Compute group name group-wise means\n",
    "colnames(group_means) <- paste0(\"Group.Mean_\", group_means['group',]) # assign group name as column names"
   ]
  },
  {
   "cell_type": "code",
   "execution_count": 39,
   "metadata": {
    "ExecuteTime": {
     "end_time": "2023-05-04T18:53:52.192881Z",
     "start_time": "2023-05-04T18:52:59.998Z"
    },
    "kernel": "R 4.1.0",
    "vscode": {
     "languageId": "r"
    }
   },
   "outputs": [],
   "source": [
    "\n",
    "group_stdev <- as.data.frame(t(aggregate(. ~ group,data = tcounts,sd))) # Compute group name group-wise standard deviation\n",
    "colnames(group_stdev) <- paste0(\"Group.Stdev_\", group_stdev['group',]) # assign group name as column names"
   ]
  },
  {
   "cell_type": "code",
   "execution_count": 40,
   "metadata": {
    "ExecuteTime": {
     "end_time": "2023-05-04T18:53:52.218683Z",
     "start_time": "2023-05-04T18:53:06.656Z"
    },
    "kernel": "R 4.1.0",
    "vscode": {
     "languageId": "r"
    }
   },
   "outputs": [],
   "source": [
    "group_means <- group_means[-c(1),] # Drop group name row from data rows (now present as column names)\n",
    "group_stdev <- group_stdev[-c(1),] # Drop group name row from data rows (now present as column names)\n",
    "output_table_1 <- cbind(output_table_1,group_means, group_stdev) # Column bind the group-wise data\n",
    "reduced_output_table_1 <- cbind(reduced_output_table_1,group_means, group_stdev) # Column bind the group-wise data\n",
    "\n",
    "rm(group_stdev,group_means,tcounts)"
   ]
  },
  {
   "cell_type": "code",
   "execution_count": null,
   "metadata": {
    "ExecuteTime": {
     "end_time": "2023-05-04T18:53:56.823526Z",
     "start_time": "2023-05-04T18:53:08.790Z"
    },
    "kernel": "R 4.1.0",
    "vscode": {
     "languageId": "r"
    }
   },
   "outputs": [],
   "source": [
    "### Add columns needed to generate GeneLab visualization plots to the DGE table ###\n",
    "\n",
    "## Add column to indicate the sign (positive/negative) of log2fc for each pairwise comparison ##\n",
    "\n",
    "updown_table <- sign(output_table_1[,grep(\"Log2fc_\",colnames(output_table_1))])\n",
    "colnames(updown_table) <- gsub(\"Log2fc\",\"Updown\",grep(\"Log2fc_\",colnames(output_table_1),value = TRUE))\n",
    "output_table_1 <- cbind(output_table_1,updown_table)\n",
    "rm(updown_table)\n",
    "\n",
    "\n",
    "## Add column to indicate contrast significance with p <= 0.1 ##\n",
    "\n",
    "sig.1_table <- output_table_1[,grep(\"P.value_\",colnames(output_table_1))]<=.1\n",
    "colnames(sig.1_table) <- gsub(\"P.value\",\"Sig.1\",grep(\"P.value_\",colnames(output_table_1),value = TRUE))\n",
    "output_table_1 <- cbind(output_table_1,sig.1_table)\n",
    "rm(sig.1_table)\n",
    "\n",
    "\n",
    "## Add column to indicate contrast significance with p <= 0.05 ##\n",
    "\n",
    "sig.05_table <- output_table_1[,grep(\"P.value_\",colnames(output_table_1))]<=.05\n",
    "colnames(sig.05_table) <- gsub(\"P.value\",\"Sig.05\",grep(\"P.value_\",colnames(output_table_1),value = TRUE))\n",
    "output_table_1 <- cbind(output_table_1,sig.05_table)\n",
    "rm(sig.05_table)\n",
    "\n",
    "\n",
    "## Add columns for the volcano plot with p-value and adjusted p-value ##\n",
    "\n",
    "log_pval_table <- log2(output_table_1[,grep(\"P.value_\",colnames(output_table_1))])\n",
    "colnames(log_pval_table) <- paste0(\"Log2_\",colnames(log_pval_table))\n",
    "output_table_1 <- cbind(output_table_1,log_pval_table)\n",
    "rm(log_pval_table)\n",
    "log_adj_pval_table <- log2(output_table_1[,grep(\"Adj.p.value_\",colnames(output_table_1))])\n",
    "colnames(log_adj_pval_table) <- paste0(\"Log2_\",colnames(log_adj_pval_table))\n",
    "output_table_1 <- cbind(output_table_1,log_adj_pval_table)\n",
    "rm(log_adj_pval_table)\n",
    "\n",
    "\n",
    "## Prepare PCA table for GeneLab visualization plots ##\n",
    "\n",
    "exp_raw <- log2(normCounts)\n",
    "PCA_raw <- prcomp(t(exp_raw), scale = FALSE)\n",
    "\n",
    "exp_raw\n",
    "PCA_raw"
   ]
  },
  {
   "cell_type": "code",
   "execution_count": 42,
   "metadata": {
    "ExecuteTime": {
     "end_time": "2023-05-04T18:53:57.081814Z",
     "start_time": "2023-05-04T18:53:15.421Z"
    },
    "kernel": "R 4.1.0",
    "vscode": {
     "languageId": "r"
    }
   },
   "outputs": [],
   "source": [
    "### Read in GeneLab annotation table for the organism of interest ###\n",
    "annot <- read.table(\"/home/x-tsuzuki/bigcare/ref_files/Homo_sapiens.GRCh38.109-GL-annotations.tsv\", sep = \"\\t\", header = TRUE, quote = \"\", comment.char = \"\", row.names = 1)"
   ]
  },
  {
   "cell_type": "code",
   "execution_count": null,
   "metadata": {
    "ExecuteTime": {
     "end_time": "2023-05-04T18:53:58.485348Z",
     "start_time": "2023-05-04T18:53:16.144Z"
    },
    "kernel": "R 4.1.0",
    "vscode": {
     "languageId": "r"
    }
   },
   "outputs": [],
   "source": [
    "### Export unnormalized and normalized counts tables ###\n",
    "\n",
    "normCounts_exp <- as.data.frame(counts(dds_1, normalized=TRUE))\n",
    "\n",
    "write.csv(txi.rsem$counts,file.path(norm_output, \"RSEM_Unnormalized_Counts.csv\"))\n",
    "write.csv(normCounts_exp,file.path(norm_output, \"Normalized_Counts.csv\"))\n",
    "\n",
    "\n",
    "### Export sample grouping and contrasts tables ###\n",
    "\n",
    "write.csv(sampleTable,file.path(DGE_output, \"SampleTable.csv\"))\n",
    "\n",
    "write.csv(contrasts,file.path(DGE_output, \"contrasts.csv\"))\n",
    "\n",
    "\n",
    "### Export human-readable DGE table ###\n",
    "\n",
    "write.csv(reduced_output_table_1,file.path(DGE_output, \"differential_expression.csv\"), row.names = FALSE)\n",
    "\n",
    "\n",
    "### Export computer-readable DGE and PCA tables used for GeneLab visualization ###\n",
    "\n",
    "write.csv(output_table_1,file.path(DGE_output, \"visualization_output_table.csv\"), row.names = FALSE)\n",
    "\n",
    "write.csv(PCA_raw$x,file.path(DGE_output, \"visualization_PCA_table.csv\"), row.names = TRUE)\n",
    "\n",
    "\n",
    "### print session info ###\n",
    "\n",
    "print(\"Session Info below: \")\n",
    "sessionInfo()"
   ]
  }
 ],
 "metadata": {
  "anaconda-cloud": {},
  "kernelspec": {
   "display_name": "SoS",
   "language": "sos",
   "name": "sos"
  },
  "language_info": {
   "codemirror_mode": "sos",
   "file_extension": ".sos",
   "mimetype": "text/x-sos",
   "name": "sos",
   "nbconvert_exporter": "sos_notebook.converter.SoS_Exporter",
   "pygments_lexer": "sos"
  },
  "sos": {
   "kernels": [
    [
     "Bash",
     "bash",
     "Bash",
     "#E6EEFF",
     "shell"
    ],
    [
     "R 4.1.0",
     "ir-4.1.0",
     "R",
     "",
     "r"
    ]
   ],
   "panel": {
    "displayed": false,
    "height": 0
   },
   "version": "0.23.3"
  },
  "toc": {
   "base_numbering": 1,
   "nav_menu": {},
   "number_sections": true,
   "sideBar": true,
   "skip_h1_title": false,
   "title_cell": "Table of Contents",
   "title_sidebar": "Contents",
   "toc_cell": false,
   "toc_position": {
    "height": "572px",
    "left": "0px",
    "right": "1070.17px",
    "top": "107px",
    "width": "414px"
   },
   "toc_section_display": "block",
   "toc_window_display": false
  },
  "varInspector": {
   "cols": {
    "lenName": 16,
    "lenType": 16,
    "lenVar": 40
   },
   "kernels_config": {
    "python": {
     "delete_cmd_postfix": "",
     "delete_cmd_prefix": "del ",
     "library": "var_list.py",
     "varRefreshCmd": "print(var_dic_list())"
    },
    "r": {
     "delete_cmd_postfix": ") ",
     "delete_cmd_prefix": "rm(",
     "library": "var_list.r",
     "varRefreshCmd": "cat(var_dic_list()) "
    }
   },
   "types_to_exclude": [
    "module",
    "function",
    "builtin_function_or_method",
    "instance",
    "_Feature"
   ],
   "window_display": false
  }
 },
 "nbformat": 4,
 "nbformat_minor": 1
}
